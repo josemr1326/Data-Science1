{
 "cells": [
  {
   "cell_type": "markdown",
   "id": "0b16c2df-174b-46ab-8d7f-cd6ced53c725",
   "metadata": {},
   "source": [
    "# **Data Science Tools and Ecosystem**\n"
   ]
  },
  {
   "cell_type": "markdown",
   "id": "d2253403-62e6-4a18-9a12-8e3889eaac38",
   "metadata": {},
   "source": [
    "In this notebook, Data Science Tools and Ecosystem are summarized."
   ]
  },
  {
   "cell_type": "markdown",
   "id": "c11dd2cd-633f-4154-910b-1e6419aa67b2",
   "metadata": {},
   "source": [
    "Some of the popular languages that Data Scientists use are:"
   ]
  },
  {
   "cell_type": "markdown",
   "id": "46713579-9d7e-461c-b3fb-03fc2b1fbf7f",
   "metadata": {},
   "source": [
    "1. Python\n",
    "2. R\n",
    "3. Java\n",
    "4. Scala"
   ]
  },
  {
   "cell_type": "markdown",
   "id": "75984fe6-9e08-4452-9562-871ab6fd239b",
   "metadata": {},
   "source": [
    "Some of the commonly used libraries used by Data Scientists include:"
   ]
  },
  {
   "cell_type": "markdown",
   "id": "8926505c-5a1d-4a65-b5be-34686f674f15",
   "metadata": {},
   "source": [
    "1. pandas\n",
    "2. Numpy\n",
    "3. Mathplotlib\n",
    "4.Seaborn\n",
    "5. ggplot2 "
   ]
  },
  {
   "cell_type": "markdown",
   "id": "bb9b3aaa-4f20-4022-abf5-7cad4a9486af",
   "metadata": {},
   "source": [
    "Data Science Tools"
   ]
  },
  {
   "cell_type": "markdown",
   "id": "55b1ecad-5ca3-4d9e-b23e-fc852256f9a9",
   "metadata": {},
   "source": [
    "| Data Science Tools | \n",
    "| -------------------| \n",
    "| Jupyter Lab| \n",
    "| R Studio|\n",
    "| VS Code |"
   ]
  },
  {
   "cell_type": "markdown",
   "id": "18624bf2-170d-4fa9-bbe6-b46807035c1f",
   "metadata": {},
   "source": [
    "Below are a few examples of evaluating arithmetic expressions in Python"
   ]
  },
  {
   "cell_type": "code",
   "execution_count": 3,
   "id": "03702023-b0a8-4126-9c68-44abf1fdc887",
   "metadata": {},
   "outputs": [
    {
     "data": {
      "text/plain": [
       "17"
      ]
     },
     "execution_count": 3,
     "metadata": {},
     "output_type": "execute_result"
    }
   ],
   "source": [
    "#This a simple arithmetic expression to mutiply then add integers\n",
    "(4*3)+5"
   ]
  },
  {
   "cell_type": "code",
   "execution_count": 7,
   "id": "05f17ba7-8c66-4335-94ea-f3bce8b14cfb",
   "metadata": {},
   "outputs": [
    {
     "name": "stdout",
     "output_type": "stream",
     "text": [
      "3.3333333333333335 hours\n"
     ]
    }
   ],
   "source": [
    "#This will convert 200 minutes to hours by diving by 60\n",
    "Min=200\n",
    "Hrs=60\n",
    "Hours= (Min/Hrs)\n",
    "\n",
    "print(Hours, \"hours\")\n"
   ]
  },
  {
   "cell_type": "markdown",
   "id": "b26d28d8-9b19-416c-b8f2-5f7b219b3995",
   "metadata": {},
   "source": [
    "**Objectives:**"
   ]
  },
  {
   "cell_type": "markdown",
   "id": "8740a7b2-8757-42b8-8122-5be3ab799404",
   "metadata": {},
   "source": [
    "## Python\n",
    "## R\n",
    "## Julia\n",
    "## Java"
   ]
  },
  {
   "cell_type": "markdown",
   "id": "6df25a0e-d4c0-449b-bc65-373a66a6e87d",
   "metadata": {},
   "source": [
    "## Author: José Morales Ramírez"
   ]
  },
  {
   "cell_type": "code",
   "execution_count": null,
   "id": "9f4099d1-2f5e-45ab-bdfc-64874d4575a9",
   "metadata": {},
   "outputs": [],
   "source": []
  }
 ],
 "metadata": {
  "kernelspec": {
   "display_name": "Python 3 (ipykernel)",
   "language": "python",
   "name": "python3"
  },
  "language_info": {
   "codemirror_mode": {
    "name": "ipython",
    "version": 3
   },
   "file_extension": ".py",
   "mimetype": "text/x-python",
   "name": "python",
   "nbconvert_exporter": "python",
   "pygments_lexer": "ipython3",
   "version": "3.9.13"
  }
 },
 "nbformat": 4,
 "nbformat_minor": 5
}
